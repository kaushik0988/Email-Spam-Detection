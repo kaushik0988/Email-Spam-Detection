{
 "cells": [
  {
   "cell_type": "code",
   "execution_count": 1,
   "id": "2c4889f9",
   "metadata": {
    "execution": {
     "iopub.execute_input": "2025-02-07T17:30:54.465972Z",
     "iopub.status.busy": "2025-02-07T17:30:54.465479Z",
     "iopub.status.idle": "2025-02-07T17:30:56.563159Z",
     "shell.execute_reply": "2025-02-07T17:30:56.561809Z"
    },
    "papermill": {
     "duration": 2.106473,
     "end_time": "2025-02-07T17:30:56.565079",
     "exception": false,
     "start_time": "2025-02-07T17:30:54.458606",
     "status": "completed"
    },
    "tags": []
   },
   "outputs": [
    {
     "name": "stdout",
     "output_type": "stream",
     "text": [
      "Path to dataset files: /kaggle/input/spam-emails-dataset\n"
     ]
    }
   ],
   "source": [
    "import kagglehub\n",
    "\n",
    "# Download latest version\n",
    "path = kagglehub.dataset_download(\"thearmada/spam-emails-dataset\")\n",
    "\n",
    "print(\"Path to dataset files:\", path)"
   ]
  },
  {
   "cell_type": "code",
   "execution_count": 2,
   "id": "27bb38c0",
   "metadata": {
    "execution": {
     "iopub.execute_input": "2025-02-07T17:30:56.578638Z",
     "iopub.status.busy": "2025-02-07T17:30:56.578068Z",
     "iopub.status.idle": "2025-02-07T17:31:00.337109Z",
     "shell.execute_reply": "2025-02-07T17:31:00.335835Z"
    },
    "papermill": {
     "duration": 3.768103,
     "end_time": "2025-02-07T17:31:00.339231",
     "exception": false,
     "start_time": "2025-02-07T17:30:56.571128",
     "status": "completed"
    },
    "tags": []
   },
   "outputs": [],
   "source": [
    "## Install the libraries \n",
    "\n",
    "import pandas as pd\n",
    "import numpy as np\n",
    "import matplotlib.pyplot as plt\n",
    "import seaborn as sns\n",
    "from sklearn.model_selection import train_test_split\n",
    "from sklearn.feature_extraction.text import TfidfVectorizer\n",
    "from sklearn.linear_model import LogisticRegression\n",
    "from sklearn.ensemble import RandomForestClassifier\n",
    "from sklearn.svm import SVC\n",
    "from sklearn.metrics import classification_report, confusion_matrix, roc_auc_score, roc_curve, accuracy_score"
   ]
  },
  {
   "cell_type": "code",
   "execution_count": 3,
   "id": "f579d8d5",
   "metadata": {
    "execution": {
     "iopub.execute_input": "2025-02-07T17:31:00.350852Z",
     "iopub.status.busy": "2025-02-07T17:31:00.350222Z",
     "iopub.status.idle": "2025-02-07T17:31:00.618225Z",
     "shell.execute_reply": "2025-02-07T17:31:00.617092Z"
    },
    "papermill": {
     "duration": 0.275683,
     "end_time": "2025-02-07T17:31:00.620066",
     "exception": false,
     "start_time": "2025-02-07T17:31:00.344383",
     "status": "completed"
    },
    "tags": []
   },
   "outputs": [
    {
     "data": {
      "text/html": [
       "<div>\n",
       "<style scoped>\n",
       "    .dataframe tbody tr th:only-of-type {\n",
       "        vertical-align: middle;\n",
       "    }\n",
       "\n",
       "    .dataframe tbody tr th {\n",
       "        vertical-align: top;\n",
       "    }\n",
       "\n",
       "    .dataframe thead th {\n",
       "        text-align: right;\n",
       "    }\n",
       "</style>\n",
       "<table border=\"1\" class=\"dataframe\">\n",
       "  <thead>\n",
       "    <tr style=\"text-align: right;\">\n",
       "      <th></th>\n",
       "      <th>text</th>\n",
       "      <th>spam</th>\n",
       "    </tr>\n",
       "  </thead>\n",
       "  <tbody>\n",
       "    <tr>\n",
       "      <th>0</th>\n",
       "      <td>Subject: naturally irresistible your corporate...</td>\n",
       "      <td>1</td>\n",
       "    </tr>\n",
       "    <tr>\n",
       "      <th>1</th>\n",
       "      <td>Subject: the stock trading gunslinger  fanny i...</td>\n",
       "      <td>1</td>\n",
       "    </tr>\n",
       "    <tr>\n",
       "      <th>2</th>\n",
       "      <td>Subject: unbelievable new homes made easy  im ...</td>\n",
       "      <td>1</td>\n",
       "    </tr>\n",
       "    <tr>\n",
       "      <th>3</th>\n",
       "      <td>Subject: 4 color printing special  request add...</td>\n",
       "      <td>1</td>\n",
       "    </tr>\n",
       "    <tr>\n",
       "      <th>4</th>\n",
       "      <td>Subject: do not have money , get software cds ...</td>\n",
       "      <td>1</td>\n",
       "    </tr>\n",
       "  </tbody>\n",
       "</table>\n",
       "</div>"
      ],
      "text/plain": [
       "                                                text  spam\n",
       "0  Subject: naturally irresistible your corporate...     1\n",
       "1  Subject: the stock trading gunslinger  fanny i...     1\n",
       "2  Subject: unbelievable new homes made easy  im ...     1\n",
       "3  Subject: 4 color printing special  request add...     1\n",
       "4  Subject: do not have money , get software cds ...     1"
      ]
     },
     "execution_count": 3,
     "metadata": {},
     "output_type": "execute_result"
    }
   ],
   "source": [
    "## Import the dataset\n",
    "\n",
    "## Perform the EDA in the data\n",
    "\n",
    "df=pd.read_csv(r'/kaggle/input/spam-emails-dataset/emails_dataset.csv')\n",
    "df.head()"
   ]
  },
  {
   "cell_type": "markdown",
   "id": "e3211053",
   "metadata": {
    "papermill": {
     "duration": 0.00481,
     "end_time": "2025-02-07T17:31:00.630349",
     "exception": false,
     "start_time": "2025-02-07T17:31:00.625539",
     "status": "completed"
    },
    "tags": []
   },
   "source": [
    "## Perform the EDA in the Dataset\n",
    "\n"
   ]
  },
  {
   "cell_type": "code",
   "execution_count": 4,
   "id": "5a816279",
   "metadata": {
    "execution": {
     "iopub.execute_input": "2025-02-07T17:31:00.642684Z",
     "iopub.status.busy": "2025-02-07T17:31:00.642231Z",
     "iopub.status.idle": "2025-02-07T17:31:00.675791Z",
     "shell.execute_reply": "2025-02-07T17:31:00.674487Z"
    },
    "papermill": {
     "duration": 0.042287,
     "end_time": "2025-02-07T17:31:00.677793",
     "exception": false,
     "start_time": "2025-02-07T17:31:00.635506",
     "status": "completed"
    },
    "tags": []
   },
   "outputs": [
    {
     "name": "stdout",
     "output_type": "stream",
     "text": [
      "<class 'pandas.core.frame.DataFrame'>\n",
      "RangeIndex: 5728 entries, 0 to 5727\n",
      "Data columns (total 2 columns):\n",
      " #   Column  Non-Null Count  Dtype \n",
      "---  ------  --------------  ----- \n",
      " 0   text    5728 non-null   object\n",
      " 1   spam    5728 non-null   int64 \n",
      "dtypes: int64(1), object(1)\n",
      "memory usage: 89.6+ KB\n"
     ]
    }
   ],
   "source": [
    "df.info()"
   ]
  },
  {
   "cell_type": "code",
   "execution_count": 5,
   "id": "39653bf8",
   "metadata": {
    "execution": {
     "iopub.execute_input": "2025-02-07T17:31:00.689854Z",
     "iopub.status.busy": "2025-02-07T17:31:00.689460Z",
     "iopub.status.idle": "2025-02-07T17:31:00.698490Z",
     "shell.execute_reply": "2025-02-07T17:31:00.697351Z"
    },
    "papermill": {
     "duration": 0.017088,
     "end_time": "2025-02-07T17:31:00.700282",
     "exception": false,
     "start_time": "2025-02-07T17:31:00.683194",
     "status": "completed"
    },
    "tags": []
   },
   "outputs": [
    {
     "data": {
      "text/plain": [
       "text    0\n",
       "spam    0\n",
       "dtype: int64"
      ]
     },
     "execution_count": 5,
     "metadata": {},
     "output_type": "execute_result"
    }
   ],
   "source": [
    "df.isnull().sum()"
   ]
  },
  {
   "cell_type": "code",
   "execution_count": 6,
   "id": "aa9bbf9e",
   "metadata": {
    "execution": {
     "iopub.execute_input": "2025-02-07T17:31:00.712352Z",
     "iopub.status.busy": "2025-02-07T17:31:00.711943Z",
     "iopub.status.idle": "2025-02-07T17:31:00.728613Z",
     "shell.execute_reply": "2025-02-07T17:31:00.727373Z"
    },
    "papermill": {
     "duration": 0.025286,
     "end_time": "2025-02-07T17:31:00.731211",
     "exception": false,
     "start_time": "2025-02-07T17:31:00.705925",
     "status": "completed"
    },
    "tags": []
   },
   "outputs": [
    {
     "data": {
      "text/html": [
       "<div>\n",
       "<style scoped>\n",
       "    .dataframe tbody tr th:only-of-type {\n",
       "        vertical-align: middle;\n",
       "    }\n",
       "\n",
       "    .dataframe tbody tr th {\n",
       "        vertical-align: top;\n",
       "    }\n",
       "\n",
       "    .dataframe thead th {\n",
       "        text-align: right;\n",
       "    }\n",
       "</style>\n",
       "<table border=\"1\" class=\"dataframe\">\n",
       "  <thead>\n",
       "    <tr style=\"text-align: right;\">\n",
       "      <th></th>\n",
       "      <th>spam</th>\n",
       "    </tr>\n",
       "  </thead>\n",
       "  <tbody>\n",
       "    <tr>\n",
       "      <th>count</th>\n",
       "      <td>5728.000000</td>\n",
       "    </tr>\n",
       "    <tr>\n",
       "      <th>mean</th>\n",
       "      <td>0.238827</td>\n",
       "    </tr>\n",
       "    <tr>\n",
       "      <th>std</th>\n",
       "      <td>0.426404</td>\n",
       "    </tr>\n",
       "    <tr>\n",
       "      <th>min</th>\n",
       "      <td>0.000000</td>\n",
       "    </tr>\n",
       "    <tr>\n",
       "      <th>25%</th>\n",
       "      <td>0.000000</td>\n",
       "    </tr>\n",
       "    <tr>\n",
       "      <th>50%</th>\n",
       "      <td>0.000000</td>\n",
       "    </tr>\n",
       "    <tr>\n",
       "      <th>75%</th>\n",
       "      <td>0.000000</td>\n",
       "    </tr>\n",
       "    <tr>\n",
       "      <th>max</th>\n",
       "      <td>1.000000</td>\n",
       "    </tr>\n",
       "  </tbody>\n",
       "</table>\n",
       "</div>"
      ],
      "text/plain": [
       "              spam\n",
       "count  5728.000000\n",
       "mean      0.238827\n",
       "std       0.426404\n",
       "min       0.000000\n",
       "25%       0.000000\n",
       "50%       0.000000\n",
       "75%       0.000000\n",
       "max       1.000000"
      ]
     },
     "execution_count": 6,
     "metadata": {},
     "output_type": "execute_result"
    }
   ],
   "source": [
    "df.describe()"
   ]
  },
  {
   "cell_type": "code",
   "execution_count": 7,
   "id": "1f3a0277",
   "metadata": {
    "execution": {
     "iopub.execute_input": "2025-02-07T17:31:00.743880Z",
     "iopub.status.busy": "2025-02-07T17:31:00.743481Z",
     "iopub.status.idle": "2025-02-07T17:31:00.752586Z",
     "shell.execute_reply": "2025-02-07T17:31:00.751037Z"
    },
    "papermill": {
     "duration": 0.017271,
     "end_time": "2025-02-07T17:31:00.754361",
     "exception": false,
     "start_time": "2025-02-07T17:31:00.737090",
     "status": "completed"
    },
    "tags": []
   },
   "outputs": [
    {
     "data": {
      "text/plain": [
       "text    0\n",
       "spam    0\n",
       "dtype: int64"
      ]
     },
     "execution_count": 7,
     "metadata": {},
     "output_type": "execute_result"
    }
   ],
   "source": [
    "df.isna().sum()"
   ]
  },
  {
   "cell_type": "code",
   "execution_count": 8,
   "id": "91f90e81",
   "metadata": {
    "execution": {
     "iopub.execute_input": "2025-02-07T17:31:00.766776Z",
     "iopub.status.busy": "2025-02-07T17:31:00.766276Z",
     "iopub.status.idle": "2025-02-07T17:31:00.797684Z",
     "shell.execute_reply": "2025-02-07T17:31:00.796430Z"
    },
    "papermill": {
     "duration": 0.039787,
     "end_time": "2025-02-07T17:31:00.799679",
     "exception": false,
     "start_time": "2025-02-07T17:31:00.759892",
     "status": "completed"
    },
    "tags": []
   },
   "outputs": [
    {
     "data": {
      "text/plain": [
       "33"
      ]
     },
     "execution_count": 8,
     "metadata": {},
     "output_type": "execute_result"
    }
   ],
   "source": [
    "df.duplicated().sum()"
   ]
  },
  {
   "cell_type": "markdown",
   "id": "68ce91c6",
   "metadata": {
    "papermill": {
     "duration": 0.005669,
     "end_time": "2025-02-07T17:31:00.811585",
     "exception": false,
     "start_time": "2025-02-07T17:31:00.805916",
     "status": "completed"
    },
    "tags": []
   },
   "source": [
    "## Remove the duplicate values"
   ]
  },
  {
   "cell_type": "code",
   "execution_count": 9,
   "id": "f8b86165",
   "metadata": {
    "execution": {
     "iopub.execute_input": "2025-02-07T17:31:00.825186Z",
     "iopub.status.busy": "2025-02-07T17:31:00.824795Z",
     "iopub.status.idle": "2025-02-07T17:31:00.880276Z",
     "shell.execute_reply": "2025-02-07T17:31:00.878569Z"
    },
    "papermill": {
     "duration": 0.064904,
     "end_time": "2025-02-07T17:31:00.882550",
     "exception": false,
     "start_time": "2025-02-07T17:31:00.817646",
     "status": "completed"
    },
    "tags": []
   },
   "outputs": [
    {
     "data": {
      "text/plain": [
       "0"
      ]
     },
     "execution_count": 9,
     "metadata": {},
     "output_type": "execute_result"
    }
   ],
   "source": [
    "df=df.drop_duplicates()\n",
    "df.duplicated().sum()"
   ]
  },
  {
   "cell_type": "code",
   "execution_count": 10,
   "id": "e1025bf8",
   "metadata": {
    "execution": {
     "iopub.execute_input": "2025-02-07T17:31:00.895926Z",
     "iopub.status.busy": "2025-02-07T17:31:00.895565Z",
     "iopub.status.idle": "2025-02-07T17:31:00.903673Z",
     "shell.execute_reply": "2025-02-07T17:31:00.902229Z"
    },
    "papermill": {
     "duration": 0.016782,
     "end_time": "2025-02-07T17:31:00.905462",
     "exception": false,
     "start_time": "2025-02-07T17:31:00.888680",
     "status": "completed"
    },
    "tags": []
   },
   "outputs": [
    {
     "name": "stdout",
     "output_type": "stream",
     "text": [
      "spam\n",
      "0    4327\n",
      "1    1368\n",
      "Name: count, dtype: int64\n"
     ]
    }
   ],
   "source": [
    "## Check the distribution of the spam and non-spam values\n",
    "print(df['spam'].value_counts())"
   ]
  },
  {
   "cell_type": "code",
   "execution_count": 11,
   "id": "5e088f9d",
   "metadata": {
    "execution": {
     "iopub.execute_input": "2025-02-07T17:31:00.918666Z",
     "iopub.status.busy": "2025-02-07T17:31:00.918203Z",
     "iopub.status.idle": "2025-02-07T17:31:02.858090Z",
     "shell.execute_reply": "2025-02-07T17:31:02.856653Z"
    },
    "papermill": {
     "duration": 1.948494,
     "end_time": "2025-02-07T17:31:02.860049",
     "exception": false,
     "start_time": "2025-02-07T17:31:00.911555",
     "status": "completed"
    },
    "tags": []
   },
   "outputs": [
    {
     "name": "stdout",
     "output_type": "stream",
     "text": [
      "[nltk_data] Downloading package stopwords to /usr/share/nltk_data...\n",
      "[nltk_data]   Package stopwords is already up-to-date!\n"
     ]
    }
   ],
   "source": [
    "import re\n",
    "import nltk\n",
    "from nltk.corpus import stopwords\n",
    "\n",
    "nltk.download(\"stopwords\")\n",
    "stop_words = set(stopwords.words(\"english\"))\n",
    "\n",
    "def clean_text(text):\n",
    "    text = text.lower()  # Lowercase\n",
    "    text = re.sub(r'\\W', ' ', text)  # Remove special characters\n",
    "    text = re.sub(r'\\d+', '', text)  # Remove numbers\n",
    "    text = ' '.join(word for word in text.split() if word not in stop_words)  # Remove stopwords\n",
    "    return text\n",
    "\n",
    "df['text'] = df['text'].apply(clean_text)\n"
   ]
  },
  {
   "cell_type": "code",
   "execution_count": 12,
   "id": "67d9b868",
   "metadata": {
    "execution": {
     "iopub.execute_input": "2025-02-07T17:31:02.873779Z",
     "iopub.status.busy": "2025-02-07T17:31:02.873383Z",
     "iopub.status.idle": "2025-02-07T17:31:02.880675Z",
     "shell.execute_reply": "2025-02-07T17:31:02.879119Z"
    },
    "papermill": {
     "duration": 0.016694,
     "end_time": "2025-02-07T17:31:02.882877",
     "exception": false,
     "start_time": "2025-02-07T17:31:02.866183",
     "status": "completed"
    },
    "tags": []
   },
   "outputs": [
    {
     "name": "stdout",
     "output_type": "stream",
     "text": [
      "                                                text  spam\n",
      "0  subject naturally irresistible corporate ident...     1\n",
      "1  subject stock trading gunslinger fanny merrill...     1\n",
      "2  subject unbelievable new homes made easy im wa...     1\n",
      "3  subject color printing special request additio...     1\n",
      "4  subject money get software cds software compat...     1\n"
     ]
    }
   ],
   "source": [
    "print(df.head())"
   ]
  },
  {
   "cell_type": "code",
   "execution_count": 13,
   "id": "99d8fff2",
   "metadata": {
    "execution": {
     "iopub.execute_input": "2025-02-07T17:31:02.896949Z",
     "iopub.status.busy": "2025-02-07T17:31:02.896579Z",
     "iopub.status.idle": "2025-02-07T17:31:03.153537Z",
     "shell.execute_reply": "2025-02-07T17:31:03.152352Z"
    },
    "papermill": {
     "duration": 0.265984,
     "end_time": "2025-02-07T17:31:03.155429",
     "exception": false,
     "start_time": "2025-02-07T17:31:02.889445",
     "status": "completed"
    },
    "tags": []
   },
   "outputs": [
    {
     "data": {
      "image/png": "[encoded data removed]",
      "text/plain": [
       "<Figure size 600x400 with 1 Axes>"
      ]
     },
     "metadata": {},
     "output_type": "display_data"
    }
   ],
   "source": [
    "plt.figure(figsize=(6, 4))\n",
    "sns.countplot(x='spam', data=df, palette='viridis') \n",
    "plt.title(\"Spam vs Ham Distribution\")\n",
    "plt.xlabel(\"Category\")\n",
    "plt.ylabel(\"Count\")\n",
    "plt.show()"
   ]
  },
  {
   "cell_type": "code",
   "execution_count": 14,
   "id": "a3377d75",
   "metadata": {
    "execution": {
     "iopub.execute_input": "2025-02-07T17:31:03.169326Z",
     "iopub.status.busy": "2025-02-07T17:31:03.168948Z",
     "iopub.status.idle": "2025-02-07T17:31:03.991775Z",
     "shell.execute_reply": "2025-02-07T17:31:03.990391Z"
    },
    "papermill": {
     "duration": 0.831857,
     "end_time": "2025-02-07T17:31:03.993735",
     "exception": false,
     "start_time": "2025-02-07T17:31:03.161878",
     "status": "completed"
    },
    "tags": []
   },
   "outputs": [
    {
     "name": "stdout",
     "output_type": "stream",
     "text": [
      "Most common words:\n",
      "            Word\n",
      "0      business\n",
      "1            cc\n",
      "2           com\n",
      "3           ect\n",
      "4        energy\n",
      "5         enron\n",
      "6         group\n",
      "7           hou\n",
      "8   information\n",
      "9      kaminski\n",
      "10         know\n",
      "11         like\n",
      "12          new\n",
      "13           pm\n",
      "14     research\n",
      "15         risk\n",
      "16      subject\n",
      "17       thanks\n",
      "18         time\n",
      "19        vince\n"
     ]
    }
   ],
   "source": [
    "from sklearn.feature_extraction.text import CountVectorizer\n",
    "cv = CountVectorizer(stop_words='english', max_features=20)\n",
    "common_words = cv.fit_transform(df['text'])\n",
    "common_words_df = pd.DataFrame(cv.get_feature_names_out(), columns=['Word'])\n",
    "print(\"Most common words:\\n\", common_words_df)"
   ]
  },
  {
   "cell_type": "code",
   "execution_count": 15,
   "id": "de3caee5",
   "metadata": {
    "execution": {
     "iopub.execute_input": "2025-02-07T17:31:04.007933Z",
     "iopub.status.busy": "2025-02-07T17:31:04.007578Z",
     "iopub.status.idle": "2025-02-07T17:31:04.015264Z",
     "shell.execute_reply": "2025-02-07T17:31:04.013901Z"
    },
    "papermill": {
     "duration": 0.016833,
     "end_time": "2025-02-07T17:31:04.017156",
     "exception": false,
     "start_time": "2025-02-07T17:31:04.000323",
     "status": "completed"
    },
    "tags": []
   },
   "outputs": [],
   "source": [
    "## Split the data into train and test \n",
    "\n",
    "X = df['text']\n",
    "y = df['spam']\n",
    "X_train, X_test, y_train, y_test = train_test_split(X, y, test_size=0.2, random_state=42)"
   ]
  },
  {
   "cell_type": "code",
   "execution_count": 16,
   "id": "bc8f76be",
   "metadata": {
    "execution": {
     "iopub.execute_input": "2025-02-07T17:31:04.031653Z",
     "iopub.status.busy": "2025-02-07T17:31:04.031215Z",
     "iopub.status.idle": "2025-02-07T17:31:04.816717Z",
     "shell.execute_reply": "2025-02-07T17:31:04.815519Z"
    },
    "papermill": {
     "duration": 0.7947,
     "end_time": "2025-02-07T17:31:04.818733",
     "exception": false,
     "start_time": "2025-02-07T17:31:04.024033",
     "status": "completed"
    },
    "tags": []
   },
   "outputs": [],
   "source": [
    "tfidf = TfidfVectorizer(max_features=5000)\n",
    "X_train_tfidf = tfidf.fit_transform(X_train)\n",
    "X_test_tfidf = tfidf.transform(X_test)"
   ]
  },
  {
   "cell_type": "code",
   "execution_count": 17,
   "id": "397ac659",
   "metadata": {
    "execution": {
     "iopub.execute_input": "2025-02-07T17:31:04.833656Z",
     "iopub.status.busy": "2025-02-07T17:31:04.833229Z",
     "iopub.status.idle": "2025-02-07T17:31:04.956432Z",
     "shell.execute_reply": "2025-02-07T17:31:04.955139Z"
    },
    "papermill": {
     "duration": 0.133232,
     "end_time": "2025-02-07T17:31:04.958397",
     "exception": false,
     "start_time": "2025-02-07T17:31:04.825165",
     "status": "completed"
    },
    "tags": []
   },
   "outputs": [
    {
     "data": {
      "text/html": [
       "<style>#sk-container-id-1 {color: black;background-color: white;}#sk-container-id-1 pre{padding: 0;}#sk-container-id-1 div.sk-toggleable {background-color: white;}#sk-container-id-1 label.sk-toggleable__label {cursor: pointer;display: block;width: 100%;margin-bottom: 0;padding: 0.3em;box-sizing: border-box;text-align: center;}#sk-container-id-1 label.sk-toggleable__label-arrow:before {content: \"▸\";float: left;margin-right: 0.25em;color: #696969;}#sk-container-id-1 label.sk-toggleable__label-arrow:hover:before {color: black;}#sk-container-id-1 div.sk-estimator:hover label.sk-toggleable__label-arrow:before {color: black;}#sk-container-id-1 div.sk-toggleable__content {max-height: 0;max-width: 0;overflow: hidden;text-align: left;background-color: #f0f8ff;}#sk-container-id-1 div.sk-toggleable__content pre {margin: 0.2em;color: black;border-radius: 0.25em;background-color: #f0f8ff;}#sk-container-id-1 input.sk-toggleable__control:checked~div.sk-toggleable__content {max-height: 200px;max-width: 100%;overflow: auto;}#sk-container-id-1 input.sk-toggleable__control:checked~label.sk-toggleable__label-arrow:before {content: \"▾\";}#sk-container-id-1 div.sk-estimator input.sk-toggleable__control:checked~label.sk-toggleable__label {background-color: #d4ebff;}#sk-container-id-1 div.sk-label input.sk-toggleable__control:checked~label.sk-toggleable__label {background-color: #d4ebff;}#sk-container-id-1 input.sk-hidden--visually {border: 0;clip: rect(1px 1px 1px 1px);clip: rect(1px, 1px, 1px, 1px);height: 1px;margin: -1px;overflow: hidden;padding: 0;position: absolute;width: 1px;}#sk-container-id-1 div.sk-estimator {font-family: monospace;background-color: #f0f8ff;border: 1px dotted black;border-radius: 0.25em;box-sizing: border-box;margin-bottom: 0.5em;}#sk-container-id-1 div.sk-estimator:hover {background-color: #d4ebff;}#sk-container-id-1 div.sk-parallel-item::after {content: \"\";width: 100%;border-bottom: 1px solid gray;flex-grow: 1;}#sk-container-id-1 div.sk-label:hover label.sk-toggleable__label {background-color: #d4ebff;}#sk-container-id-1 div.sk-serial::before {content: \"\";position: absolute;border-left: 1px solid gray;box-sizing: border-box;top: 0;bottom: 0;left: 50%;z-index: 0;}#sk-container-id-1 div.sk-serial {display: flex;flex-direction: column;align-items: center;background-color: white;padding-right: 0.2em;padding-left: 0.2em;position: relative;}#sk-container-id-1 div.sk-item {position: relative;z-index: 1;}#sk-container-id-1 div.sk-parallel {display: flex;align-items: stretch;justify-content: center;background-color: white;position: relative;}#sk-container-id-1 div.sk-item::before, #sk-container-id-1 div.sk-parallel-item::before {content: \"\";position: absolute;border-left: 1px solid gray;box-sizing: border-box;top: 0;bottom: 0;left: 50%;z-index: -1;}#sk-container-id-1 div.sk-parallel-item {display: flex;flex-direction: column;z-index: 1;position: relative;background-color: white;}#sk-container-id-1 div.sk-parallel-item:first-child::after {align-self: flex-end;width: 50%;}#sk-container-id-1 div.sk-parallel-item:last-child::after {align-self: flex-start;width: 50%;}#sk-container-id-1 div.sk-parallel-item:only-child::after {width: 0;}#sk-container-id-1 div.sk-dashed-wrapped {border: 1px dashed gray;margin: 0 0.4em 0.5em 0.4em;box-sizing: border-box;padding-bottom: 0.4em;background-color: white;}#sk-container-id-1 div.sk-label label {font-family: monospace;font-weight: bold;display: inline-block;line-height: 1.2em;}#sk-container-id-1 div.sk-label-container {text-align: center;}#sk-container-id-1 div.sk-container {/* jupyter's `normalize.less` sets `[hidden] { display: none; }` but bootstrap.min.css set `[hidden] { display: none !important; }` so we also need the `!important` here to be able to override the default hidden behavior on the sphinx rendered scikit-learn.org. See: https://github.com/scikit-learn/scikit-learn/issues/21755 */display: inline-block !important;position: relative;}#sk-container-id-1 div.sk-text-repr-fallback {display: none;}</style><div id=\"sk-container-id-1\" class=\"sk-top-container\"><div class=\"sk-text-repr-fallback\"><pre>LogisticRegression()</pre><b>In a Jupyter environment, please rerun this cell to show the HTML representation or trust the notebook. <br />On GitHub, the HTML representation is unable to render, please try loading this page with nbviewer.org.</b></div><div class=\"sk-container\" hidden><div class=\"sk-item\"><div class=\"sk-estimator sk-toggleable\"><input class=\"sk-toggleable__control sk-hidden--visually\" id=\"sk-estimator-id-1\" type=\"checkbox\" checked><label for=\"sk-estimator-id-1\" class=\"sk-toggleable__label sk-toggleable__label-arrow\">LogisticRegression</label><div class=\"sk-toggleable__content\"><pre>LogisticRegression()</pre></div></div></div></div></div>"
      ],
      "text/plain": [
       "LogisticRegression()"
      ]
     },
     "execution_count": 17,
     "metadata": {},
     "output_type": "execute_result"
    }
   ],
   "source": [
    "## Train the regression model\n",
    "lr_model = LogisticRegression()\n",
    "lr_model.fit(X_train_tfidf, y_train)"
   ]
  },
  {
   "cell_type": "code",
   "execution_count": 18,
   "id": "e435e676",
   "metadata": {
    "execution": {
     "iopub.execute_input": "2025-02-07T17:31:04.973332Z",
     "iopub.status.busy": "2025-02-07T17:31:04.972950Z",
     "iopub.status.idle": "2025-02-07T17:31:04.990648Z",
     "shell.execute_reply": "2025-02-07T17:31:04.989272Z"
    },
    "papermill": {
     "duration": 0.027378,
     "end_time": "2025-02-07T17:31:04.992637",
     "exception": false,
     "start_time": "2025-02-07T17:31:04.965259",
     "status": "completed"
    },
    "tags": []
   },
   "outputs": [
    {
     "name": "stdout",
     "output_type": "stream",
     "text": [
      "Logistic Regression Classification Report:\n",
      "               precision    recall  f1-score   support\n",
      "\n",
      "           0       0.98      1.00      0.99       843\n",
      "           1       0.99      0.93      0.96       296\n",
      "\n",
      "    accuracy                           0.98      1139\n",
      "   macro avg       0.98      0.96      0.97      1139\n",
      "weighted avg       0.98      0.98      0.98      1139\n",
      "\n",
      "Confusion Matrix:\n",
      " [[840   3]\n",
      " [ 20 276]]\n"
     ]
    }
   ],
   "source": [
    "## Evalue the model and predict score\n",
    "y_pred_lr = lr_model.predict(X_test_tfidf)\n",
    "print(\"Logistic Regression Classification Report:\\n\", classification_report(y_test, y_pred_lr))\n",
    "print(\"Confusion Matrix:\\n\", confusion_matrix(y_test, y_pred_lr))"
   ]
  },
  {
   "cell_type": "code",
   "execution_count": 19,
   "id": "3d74dae7",
   "metadata": {
    "execution": {
     "iopub.execute_input": "2025-02-07T17:31:05.007894Z",
     "iopub.status.busy": "2025-02-07T17:31:05.007529Z",
     "iopub.status.idle": "2025-02-07T17:31:07.158351Z",
     "shell.execute_reply": "2025-02-07T17:31:07.157233Z"
    },
    "papermill": {
     "duration": 2.160729,
     "end_time": "2025-02-07T17:31:07.160472",
     "exception": false,
     "start_time": "2025-02-07T17:31:04.999743",
     "status": "completed"
    },
    "tags": []
   },
   "outputs": [
    {
     "data": {
      "text/html": [
       "<style>#sk-container-id-2 {color: black;background-color: white;}#sk-container-id-2 pre{padding: 0;}#sk-container-id-2 div.sk-toggleable {background-color: white;}#sk-container-id-2 label.sk-toggleable__label {cursor: pointer;display: block;width: 100%;margin-bottom: 0;padding: 0.3em;box-sizing: border-box;text-align: center;}#sk-container-id-2 label.sk-toggleable__label-arrow:before {content: \"▸\";float: left;margin-right: 0.25em;color: #696969;}#sk-container-id-2 label.sk-toggleable__label-arrow:hover:before {color: black;}#sk-container-id-2 div.sk-estimator:hover label.sk-toggleable__label-arrow:before {color: black;}#sk-container-id-2 div.sk-toggleable__content {max-height: 0;max-width: 0;overflow: hidden;text-align: left;background-color: #f0f8ff;}#sk-container-id-2 div.sk-toggleable__content pre {margin: 0.2em;color: black;border-radius: 0.25em;background-color: #f0f8ff;}#sk-container-id-2 input.sk-toggleable__control:checked~div.sk-toggleable__content {max-height: 200px;max-width: 100%;overflow: auto;}#sk-container-id-2 input.sk-toggleable__control:checked~label.sk-toggleable__label-arrow:before {content: \"▾\";}#sk-container-id-2 div.sk-estimator input.sk-toggleable__control:checked~label.sk-toggleable__label {background-color: #d4ebff;}#sk-container-id-2 div.sk-label input.sk-toggleable__control:checked~label.sk-toggleable__label {background-color: #d4ebff;}#sk-container-id-2 input.sk-hidden--visually {border: 0;clip: rect(1px 1px 1px 1px);clip: rect(1px, 1px, 1px, 1px);height: 1px;margin: -1px;overflow: hidden;padding: 0;position: absolute;width: 1px;}#sk-container-id-2 div.sk-estimator {font-family: monospace;background-color: #f0f8ff;border: 1px dotted black;border-radius: 0.25em;box-sizing: border-box;margin-bottom: 0.5em;}#sk-container-id-2 div.sk-estimator:hover {background-color: #d4ebff;}#sk-container-id-2 div.sk-parallel-item::after {content: \"\";width: 100%;border-bottom: 1px solid gray;flex-grow: 1;}#sk-container-id-2 div.sk-label:hover label.sk-toggleable__label {background-color: #d4ebff;}#sk-container-id-2 div.sk-serial::before {content: \"\";position: absolute;border-left: 1px solid gray;box-sizing: border-box;top: 0;bottom: 0;left: 50%;z-index: 0;}#sk-container-id-2 div.sk-serial {display: flex;flex-direction: column;align-items: center;background-color: white;padding-right: 0.2em;padding-left: 0.2em;position: relative;}#sk-container-id-2 div.sk-item {position: relative;z-index: 1;}#sk-container-id-2 div.sk-parallel {display: flex;align-items: stretch;justify-content: center;background-color: white;position: relative;}#sk-container-id-2 div.sk-item::before, #sk-container-id-2 div.sk-parallel-item::before {content: \"\";position: absolute;border-left: 1px solid gray;box-sizing: border-box;top: 0;bottom: 0;left: 50%;z-index: -1;}#sk-container-id-2 div.sk-parallel-item {display: flex;flex-direction: column;z-index: 1;position: relative;background-color: white;}#sk-container-id-2 div.sk-parallel-item:first-child::after {align-self: flex-end;width: 50%;}#sk-container-id-2 div.sk-parallel-item:last-child::after {align-self: flex-start;width: 50%;}#sk-container-id-2 div.sk-parallel-item:only-child::after {width: 0;}#sk-container-id-2 div.sk-dashed-wrapped {border: 1px dashed gray;margin: 0 0.4em 0.5em 0.4em;box-sizing: border-box;padding-bottom: 0.4em;background-color: white;}#sk-container-id-2 div.sk-label label {font-family: monospace;font-weight: bold;display: inline-block;line-height: 1.2em;}#sk-container-id-2 div.sk-label-container {text-align: center;}#sk-container-id-2 div.sk-container {/* jupyter's `normalize.less` sets `[hidden] { display: none; }` but bootstrap.min.css set `[hidden] { display: none !important; }` so we also need the `!important` here to be able to override the default hidden behavior on the sphinx rendered scikit-learn.org. See: https://github.com/scikit-learn/scikit-learn/issues/21755 */display: inline-block !important;position: relative;}#sk-container-id-2 div.sk-text-repr-fallback {display: none;}</style><div id=\"sk-container-id-2\" class=\"sk-top-container\"><div class=\"sk-text-repr-fallback\"><pre>RandomForestClassifier()</pre><b>In a Jupyter environment, please rerun this cell to show the HTML representation or trust the notebook. <br />On GitHub, the HTML representation is unable to render, please try loading this page with nbviewer.org.</b></div><div class=\"sk-container\" hidden><div class=\"sk-item\"><div class=\"sk-estimator sk-toggleable\"><input class=\"sk-toggleable__control sk-hidden--visually\" id=\"sk-estimator-id-2\" type=\"checkbox\" checked><label for=\"sk-estimator-id-2\" class=\"sk-toggleable__label sk-toggleable__label-arrow\">RandomForestClassifier</label><div class=\"sk-toggleable__content\"><pre>RandomForestClassifier()</pre></div></div></div></div></div>"
      ],
      "text/plain": [
       "RandomForestClassifier()"
      ]
     },
     "execution_count": 19,
     "metadata": {},
     "output_type": "execute_result"
    }
   ],
   "source": [
    "## Train the Random forest model\n",
    "rf_model = RandomForestClassifier()\n",
    "rf_model.fit(X_train_tfidf, y_train)"
   ]
  },
  {
   "cell_type": "code",
   "execution_count": 20,
   "id": "09ce3832",
   "metadata": {
    "execution": {
     "iopub.execute_input": "2025-02-07T17:31:07.176125Z",
     "iopub.status.busy": "2025-02-07T17:31:07.175789Z",
     "iopub.status.idle": "2025-02-07T17:31:07.236407Z",
     "shell.execute_reply": "2025-02-07T17:31:07.234972Z"
    },
    "papermill": {
     "duration": 0.070173,
     "end_time": "2025-02-07T17:31:07.238218",
     "exception": false,
     "start_time": "2025-02-07T17:31:07.168045",
     "status": "completed"
    },
    "tags": []
   },
   "outputs": [
    {
     "name": "stdout",
     "output_type": "stream",
     "text": [
      "Random Forest Classification Report:\n",
      "               precision    recall  f1-score   support\n",
      "\n",
      "           0       0.98      0.99      0.99       843\n",
      "           1       0.98      0.95      0.97       296\n",
      "\n",
      "    accuracy                           0.98      1139\n",
      "   macro avg       0.98      0.97      0.98      1139\n",
      "weighted avg       0.98      0.98      0.98      1139\n",
      "\n"
     ]
    }
   ],
   "source": [
    "y_pred_rf = rf_model.predict(X_test_tfidf)\n",
    "print(\"Random Forest Classification Report:\\n\", classification_report(y_test, y_pred_rf))"
   ]
  },
  {
   "cell_type": "code",
   "execution_count": null,
   "id": "6225f5e8",
   "metadata": {
    "papermill": {
     "duration": 0.006528,
     "end_time": "2025-02-07T17:31:07.251800",
     "exception": false,
     "start_time": "2025-02-07T17:31:07.245272",
     "status": "completed"
    },
    "tags": []
   },
   "outputs": [],
   "source": []
  }
 ],
 "metadata": {
  "kaggle": {
   "accelerator": "none",
   "dataSources": [
    {
     "datasetId": 5797406,
     "sourceId": 9521656,
     "sourceType": "datasetVersion"
    }
   ],
   "dockerImageVersionId": 30886,
   "isGpuEnabled": false,
   "isInternetEnabled": true,
   "language": "python",
   "sourceType": "notebook"
  },
  "kernelspec": {
   "display_name": "Python 3",
   "language": "python",
   "name": "python3"
  },
  "language_info": {
   "codemirror_mode": {
    "name": "ipython",
    "version": 3
   },
   "file_extension": ".py",
   "mimetype": "text/x-python",
   "name": "python",
   "nbconvert_exporter": "python",
   "pygments_lexer": "ipython3",
   "version": "3.10.12"
  },
  "papermill": {
   "default_parameters": {},
   "duration": 16.811856,
   "end_time": "2025-02-07T17:31:08.281919",
   "environment_variables": {},
   "exception": null,
   "input_path": "__notebook__.ipynb",
   "output_path": "__notebook__.ipynb",
   "parameters": {},
   "start_time": "2025-02-07T17:30:51.470063",
   "version": "2.6.0"
  }
 },
 "nbformat": 4,
 "nbformat_minor": 5
}
